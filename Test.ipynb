{
 "cells": [
  {
   "cell_type": "code",
   "execution_count": 1,
   "metadata": {},
   "outputs": [],
   "source": [
    "from autogen_agentchat.ui import Console\n",
    "from autogen_agentchat.agents import AssistantAgent\n",
    "from autogen_agentchat.conditions import TextMentionTermination\n",
    "from autogen_ext.models.openai import OpenAIChatCompletionClient\n",
    "from autogen_agentchat.teams import RoundRobinGroupChat\n",
    "\n",
    "from Config_Data import load_config_data\n",
    "from File_Operations import raw_text_from_file, write_point_to_docx, write_point_to_pdf\n",
    "from Prompt import COMPLIANCE_CHECK_PROMPT, CORRECTION_PROMPT, WRITER_PROMPT\n",
    "\n",
    "groq_api_key = load_config_data[\"GROQ_API_KEY\"]\n",
    "groq_model = load_config_data[\"GROQ_llama_3_3_70B_VERSATILE\"]\n",
    "groq_model_1 = load_config_data[\"GROQ_llama_3_3_70B_SPECTEC\"]\n",
    "groq_base_url = load_config_data[\"GROQ_BASE_URL\"]\n",
    "UPLOAD_DIR = load_config_data[\"FILE_PROCESSING_PATH\"]"
   ]
  },
  {
   "cell_type": "code",
   "execution_count": 2,
   "metadata": {},
   "outputs": [],
   "source": [
    "model_client = OpenAIChatCompletionClient(\n",
    "        model = groq_model,\n",
    "        api_key = groq_api_key,\n",
    "        base_url = groq_base_url,\n",
    "        temperature = 0.3,\n",
    "        max_tokens = 512,\n",
    "        model_info = {\n",
    "            \"vision\": False,\n",
    "            \"function_calling\": True,\n",
    "            \"json_output\": False,\n",
    "            \"family\": \"unknown\",\n",
    "        },\n",
    "    )"
   ]
  },
  {
   "cell_type": "code",
   "execution_count": 3,
   "metadata": {},
   "outputs": [],
   "source": [
    "compliance_check_agent = AssistantAgent(\n",
    "        name=\"Compliance_Check_Assistant\",\n",
    "        description=\"This agent is responsible for checking compliance in provided text.\",\n",
    "        system_message=COMPLIANCE_CHECK_PROMPT,\n",
    "        model_client=model_client,\n",
    "    )"
   ]
  },
  {
   "cell_type": "code",
   "execution_count": 4,
   "metadata": {},
   "outputs": [],
   "source": [
    "compliance_correction_agent = AssistantAgent(\n",
    "        name=\"Compliance_Correction_Assistant\",\n",
    "        description=\"Ensures text compliance with Federal Plain Language Guidelines by correcting grammar, sentence structure, and clarity.\",\n",
    "        system_message=CORRECTION_PROMPT,\n",
    "        model_client=model_client,\n",
    "    )"
   ]
  },
  {
   "cell_type": "code",
   "execution_count": 5,
   "metadata": {},
   "outputs": [],
   "source": [
    "document_writer_agent = AssistantAgent(\n",
    "        name = \"Document_Writer_Agent\",\n",
    "        description = \"Writes structured text to DOCX or PDF files based on function output without modifications.\",\n",
    "        system_message = WRITER_PROMPT,\n",
    "        model_client = model_client,\n",
    "        tools = [write_point_to_docx, write_point_to_pdf],\n",
    "        reflect_on_tool_use = True,\n",
    "    )"
   ]
  },
  {
   "cell_type": "code",
   "execution_count": 8,
   "metadata": {},
   "outputs": [
    {
     "name": "stdout",
     "output_type": "stream",
     "text": [
      "---------- user ----------\n",
      " \n",
      "This rule proposes the Spring/Summer subsistence harvest regulations in Alaska for migratory birds that expire on August 31, 2003.\n",
      "\n",
      "\n",
      "---------- Compliance_Check_Assistant ----------\n",
      "COMPLIANT\n"
     ]
    },
    {
     "data": {
      "text/plain": [
       "TaskResult(messages=[TextMessage(source='user', models_usage=None, content=' \\nThis rule proposes the Spring/Summer subsistence harvest regulations in Alaska for migratory birds that expire on August 31, 2003.\\n\\n', type='TextMessage'), TextMessage(source='Compliance_Check_Assistant', models_usage=RequestUsage(prompt_tokens=397, completion_tokens=5), content='COMPLIANT', type='TextMessage')], stop_reason=None)"
      ]
     },
     "execution_count": 8,
     "metadata": {},
     "output_type": "execute_result"
    }
   ],
   "source": [
    "text = \"\"\" \n",
    "This rule proposes the Spring/Summer subsistence harvest regulations in Alaska for migratory birds that expire on August 31, 2003.\n",
    "\n",
    "\"\"\"\n",
    "stream = compliance_check_agent.run_stream(task=text)\n",
    "await Console(stream)"
   ]
  },
  {
   "cell_type": "code",
   "execution_count": null,
   "metadata": {},
   "outputs": [],
   "source": [
    "agent_list = [compliance_correction_agent, document_writer_agent]\n",
    "termination = TextMentionTermination(\"TERMINATE\")\n",
    "group_chat = RoundRobinGroupChat(agent_list, termination_condition=termination, max_turns=len(agent_list))"
   ]
  },
  {
   "cell_type": "code",
   "execution_count": null,
   "metadata": {},
   "outputs": [],
   "source": [
    "input_text = f\"\"\"\n",
    "text status: NON COMPLIANCE\n",
    "file name: Test.pdf\n",
    "text: {text}\"\"\"\n",
    "stream = group_chat.run_stream(task=input_text)\n",
    "await Console(stream)"
   ]
  },
  {
   "cell_type": "code",
   "execution_count": null,
   "metadata": {},
   "outputs": [],
   "source": []
  },
  {
   "cell_type": "code",
   "execution_count": null,
   "metadata": {},
   "outputs": [],
   "source": []
  },
  {
   "cell_type": "code",
   "execution_count": null,
   "metadata": {},
   "outputs": [],
   "source": []
  },
  {
   "cell_type": "code",
   "execution_count": null,
   "metadata": {},
   "outputs": [],
   "source": [
    "import requests, os"
   ]
  },
  {
   "cell_type": "code",
   "execution_count": null,
   "metadata": {},
   "outputs": [],
   "source": [
    "def check_compliance(file_path:str):\n",
    "    url = \"http://127.0.0.1:8888/compliance_check\"\n",
    "    files = {\"file\": open(file_path, \"rb\")}\n",
    "    response = requests.post(url, files=files)\n",
    "    return response.json()"
   ]
  },
  {
   "cell_type": "code",
   "execution_count": null,
   "metadata": {},
   "outputs": [],
   "source": [
    "file = r\"C:\\Users\\laxmidhar.routa\\OneDrive - Aspire Systems (India) Private Limited\\Assessment\\Document.docx\"\n",
    "print(check_compliance(file))"
   ]
  },
  {
   "cell_type": "code",
   "execution_count": null,
   "metadata": {},
   "outputs": [],
   "source": [
    "def file_processing_api(file_path: str):\n",
    "    url = \"http://127.0.0.1:8888/updated_document_compliance\"\n",
    "    file_name, extension = os.path.splitext(os.path.basename(file_path))\n",
    "    extension = extension.lower()\n",
    "    if extension not in {\".docx\", \".pdf\"}:\n",
    "        print(\"Error: Unsupported file format. Only PDF and DOCX allowed.\")\n",
    "        return\n",
    "    try:\n",
    "        with open(file_path, \"rb\") as file:\n",
    "            files = {\"file\": file}\n",
    "            response = requests.post(url, files=files)\n",
    "            response.raise_for_status()\n",
    "            processed_file_path = f\"processed_{file_name}{extension}\"\n",
    "            with open(processed_file_path, \"wb\") as f:\n",
    "                f.write(response.content)\n",
    "            print(f\"Processed file downloaded successfully: {processed_file_path}\")\n",
    "    except requests.exceptions.RequestException as e:\n",
    "        print(f\"Error: Failed to process file. Details: {e}\")\n",
    "    except Exception as e:\n",
    "        print(f\"Unexpected Error: {e}\")"
   ]
  },
  {
   "cell_type": "code",
   "execution_count": null,
   "metadata": {},
   "outputs": [],
   "source": [
    "file_path = r\"C:\\Users\\laxmidhar.routa\\OneDrive - Aspire Systems (India) Private Limited\\Assessment\\Document.docx\"\n",
    "file_processing_api(file_path)"
   ]
  },
  {
   "cell_type": "code",
   "execution_count": null,
   "metadata": {},
   "outputs": [],
   "source": []
  }
 ],
 "metadata": {
  "kernelspec": {
   "display_name": "Python 3",
   "language": "python",
   "name": "python3"
  },
  "language_info": {
   "codemirror_mode": {
    "name": "ipython",
    "version": 3
   },
   "file_extension": ".py",
   "mimetype": "text/x-python",
   "name": "python",
   "nbconvert_exporter": "python",
   "pygments_lexer": "ipython3",
   "version": "3.12.7"
  }
 },
 "nbformat": 4,
 "nbformat_minor": 2
}
